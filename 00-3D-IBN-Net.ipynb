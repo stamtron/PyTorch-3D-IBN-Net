{
 "cells": [
  {
   "cell_type": "code",
   "execution_count": null,
   "metadata": {},
   "outputs": [],
   "source": [
    "from model import *"
   ]
  },
  {
   "cell_type": "code",
   "execution_count": null,
   "metadata": {},
   "outputs": [],
   "source": [
    "model = generate_model(model_depth=50, n_classes = 5, n_input_channels=3, shortcut_type='A')\n",
    "model.avgpool = AdaptiveConcatPool3d()\n",
    "model.fc = Head()"
   ]
  }
 ],
   "cell_type": "code",
   "execution_count": null,
   "metadata": {},
   "outputs": [],
   "source": [
    "img_sequence = torch.rand(1,3,16,512,512)\n",
    "model.eval()\n",
    "with torch.no_grad():\n",
    "    out = model(img_sequence)"
   ]
  }
 ],
 "metadata": {
  "language_info": {
   "name": "python",
   "pygments_lexer": "ipython3"
  }
 },
 "nbformat": 4,
 "nbformat_minor": 4
}
